{
  "cells": [
    {
      "cell_type": "markdown",
      "id": "f9648995",
      "metadata": {
        "id": "f9648995"
      },
      "source": [
        "# Compute Gini Index for Real and generated images"
      ]
    },
    {
      "cell_type": "code",
      "source": [
        "from google.colab import drive\n",
        "drive.mount('/content/drive')"
      ],
      "metadata": {
        "colab": {
          "base_uri": "https://localhost:8080/"
        },
        "id": "RQgxswmtaqh6",
        "outputId": "7b582a72-6f30-44b6-950c-8817b2bfc897"
      },
      "id": "RQgxswmtaqh6",
      "execution_count": 1,
      "outputs": [
        {
          "output_type": "stream",
          "name": "stdout",
          "text": [
            "Mounted at /content/drive\n"
          ]
        }
      ]
    },
    {
      "cell_type": "markdown",
      "id": "6e9f6530",
      "metadata": {
        "id": "6e9f6530"
      },
      "source": [
        "- Import Libraries"
      ]
    },
    {
      "cell_type": "code",
      "source": [
        "!pip install pygini"
      ],
      "metadata": {
        "colab": {
          "base_uri": "https://localhost:8080/"
        },
        "id": "H4pRVcU4ayFW",
        "outputId": "4213eef5-610d-41f4-ee32-6c9a89b788ba"
      },
      "id": "H4pRVcU4ayFW",
      "execution_count": 2,
      "outputs": [
        {
          "output_type": "stream",
          "name": "stdout",
          "text": [
            "Looking in indexes: https://pypi.org/simple, https://us-python.pkg.dev/colab-wheels/public/simple/\n",
            "Collecting pygini\n",
            "  Downloading pygini-1.0.1-py3-none-any.whl (14 kB)\n",
            "Requirement already satisfied: numpy>=1.17.4 in /usr/local/lib/python3.7/dist-packages (from pygini) (1.21.6)\n",
            "Installing collected packages: pygini\n",
            "Successfully installed pygini-1.0.1\n"
          ]
        }
      ]
    },
    {
      "cell_type": "code",
      "execution_count": 3,
      "id": "2075b5a0",
      "metadata": {
        "id": "2075b5a0"
      },
      "outputs": [],
      "source": [
        "import numpy as np\n",
        "import pandas as pd\n",
        "import seaborn as sns\n",
        "import cv2\n",
        "from pygini import gini\n",
        "import matplotlib.pyplot as plt\n",
        "import matplotlib.animation as animation\n",
        "import numpy as np\n",
        "import os\n",
        "import random\n",
        "import time\n",
        "import PIL\n",
        "from IPython.display import HTML\n",
        "from IPython import display\n",
        "#from keras.datasets import fashion_mnist\n",
        "from keras.layers import Conv2D, Conv2DTranspose, BatchNormalization, Dropout, Input, Dense, Reshape, Flatten\n",
        "from keras.layers import LeakyReLU\n",
        "from keras.models import Sequential, Model\n",
        "from keras.optimizers import adam_v2\n",
        "import keras\n",
        "import tensorflow as tf\n",
        "from keras.backend import sigmoid\n",
        "from keras.utils.generic_utils import get_custom_objects\n",
        "from keras.layers import Activation\n",
        "\n",
        "from numpy import mean\n",
        "from numpy import var\n",
        "from numpy import std"
      ]
    },
    {
      "cell_type": "code",
      "execution_count": 4,
      "id": "44f1dfe2",
      "metadata": {
        "id": "44f1dfe2"
      },
      "outputs": [],
      "source": [
        "import PIL\n",
        "from keras.preprocessing import image"
      ]
    },
    {
      "cell_type": "markdown",
      "source": [
        "- Create a function to compute the Gini index."
      ],
      "metadata": {
        "id": "h9UbNfXoa5AK"
      },
      "id": "h9UbNfXoa5AK"
    },
    {
      "cell_type": "code",
      "execution_count": 5,
      "id": "3735f6fc",
      "metadata": {
        "id": "3735f6fc"
      },
      "outputs": [],
      "source": [
        "'''Compute Gini index.\n",
        "This implementation is inspired by the one found in [1]_.  This\n",
        "implementation handles multidimensional arrays.\n",
        "References\n",
        "----------\n",
        ".. [1] https://github.com/oliviaguest/gini/blob/master/gini.py\n",
        "'''\n",
        "\n",
        "\n",
        "\n",
        "def gini(data, axis=None, eps=1e-8):\n",
        "    '''Calculate the Gini coefficient of a numpy array.\n",
        "    Parameters\n",
        "    ----------\n",
        "    data : array_like\n",
        "        Array to compute the Gini index of along axis.\n",
        "    axis : None or int, optional\n",
        "        If axis=None, data is flattened before Gini index is computed.\n",
        "        If axis is int, Gini index will be computed along the\n",
        "        specified axis.\n",
        "    eps : float, optional\n",
        "        Small, positive number to make sure we don't divide by 0.\n",
        "    Returns\n",
        "    -------\n",
        "    res : array_like\n",
        "        The Gini coefficients of numpy array data.\n",
        "    Notes\n",
        "    -----\n",
        "    Based on bottom eq on [2]_.\n",
        "    References\n",
        "    ----------\n",
        "    .. [2]_ http://www.statsdirect.com/help/\n",
        "            default.htm#nonparametric_methods/gini.htm\n",
        "    '''\n",
        "\n",
        "    # Work out dimensions\n",
        "    if axis is None:\n",
        "        data = data.flatten()\n",
        "        N = data.shape[0]\n",
        "        idx = np.arange(N) + 1 # 1-based indexing\n",
        "    else:\n",
        "        # Move gini index axis up front\n",
        "        data = np.moveaxis(data, axis, 0)\n",
        "\n",
        "        # Reshape so we only have two axes to deal with:\n",
        "        N, sh_orig = data.shape[0], data.shape[1:]\n",
        "        data = np.reshape(data, (N, -1))\n",
        "        idx = np.arange(N)[:, None] + 1\n",
        "\n",
        "    # Values cannot be negative\n",
        "    minval = np.amin(data.flatten())\n",
        "    if minval < 0:\n",
        "        data -= minval\n",
        "\n",
        "    # Values must be nonzero\n",
        "    data += eps\n",
        "\n",
        "    # Values must be sorted\n",
        "    data = np.sort(data, axis=0)\n",
        "\n",
        "    # Calculate Gini coefficient\n",
        "    num = np.sum((2*idx - N - 1)*data, axis=0)\n",
        "    den = N*np.sum(data, axis=0)\n",
        "    res = num/den\n",
        "    if axis is None:\n",
        "        return res\n",
        "    return np.reshape(res, sh_orig)"
      ]
    },
    {
      "cell_type": "markdown",
      "id": "b2544fcc",
      "metadata": {
        "id": "b2544fcc"
      },
      "source": [
        "# Load Input data"
      ]
    },
    {
      "cell_type": "code",
      "source": [
        "data = \"/content/drive/MyDrive/RealImages/\""
      ],
      "metadata": {
        "id": "1cgbV4a4dM_r"
      },
      "id": "1cgbV4a4dM_r",
      "execution_count": 6,
      "outputs": []
    },
    {
      "cell_type": "code",
      "execution_count": 7,
      "id": "9410135b",
      "metadata": {
        "id": "9410135b"
      },
      "outputs": [],
      "source": [
        "#Convert to numpy array\n",
        "def readImage(path,image_size=(256,256)):\n",
        "    img = np.asarray(PIL.Image.open(path).resize(image_size))\n",
        "    img = ((img - 127.5) / 127.5).astype(\"float32\")\n",
        "    return img"
      ]
    },
    {
      "cell_type": "markdown",
      "source": [
        "- We create a list of Gini indices for real images "
      ],
      "metadata": {
        "id": "CCL7RATNeE2r"
      },
      "id": "CCL7RATNeE2r"
    },
    {
      "cell_type": "code",
      "execution_count": 8,
      "id": "8b283c79",
      "metadata": {
        "id": "8b283c79"
      },
      "outputs": [],
      "source": [
        "gini_real=[]\n",
        "images =os.listdir(data)[:63]\n",
        "for i in images:\n",
        "    image_path=os.path.join(data, i)\n",
        "    ginireal = gini(readImage(image_path))\n",
        "    gini_real.append(ginireal)"
      ]
    },
    {
      "cell_type": "code",
      "execution_count": 9,
      "id": "ea99680c",
      "metadata": {
        "colab": {
          "base_uri": "https://localhost:8080/"
        },
        "id": "ea99680c",
        "outputId": "a6df485c-9e09-4e06-c2d0-6f8600286353"
      },
      "outputs": [
        {
          "output_type": "execute_result",
          "data": {
            "text/plain": [
              "[0.5681862545408235,\n",
              " 0.49315052429155076,\n",
              " 0.5133306617830568,\n",
              " 0.696106860423034,\n",
              " 0.6381790934508422,\n",
              " 0.6573362831753679,\n",
              " 0.5223668569676083,\n",
              " 0.44933789831850107,\n",
              " 0.7441298001393424,\n",
              " 0.6066311100289008,\n",
              " 0.6006080253087924,\n",
              " 0.5464877280636702,\n",
              " 0.5964858037580095,\n",
              " 0.48128639519711963,\n",
              " 0.7055312349220889,\n",
              " 0.7076744556906553,\n",
              " 0.5629484425896417,\n",
              " 0.5648781849974758,\n",
              " 0.6341904747722928,\n",
              " 0.5722292504101646,\n",
              " 0.5740902776363023,\n",
              " 0.6335608897955233,\n",
              " 0.5965008773650751,\n",
              " 0.6583876592901129,\n",
              " 0.4170719833975471,\n",
              " 0.5447070469900955,\n",
              " 0.5242498152631259,\n",
              " 0.4903020715544401,\n",
              " 0.732535635862174,\n",
              " 0.5497823729595069,\n",
              " 0.47875935952341253,\n",
              " 0.5943812442317556,\n",
              " 0.6638432738062071,\n",
              " 0.6584755543114439,\n",
              " 0.5381981668450355,\n",
              " 0.5618709633878813,\n",
              " 0.6120234287540496,\n",
              " 0.7183271264079768,\n",
              " 0.4541155514316675,\n",
              " 0.5209855225478185,\n",
              " 0.5808289573165333,\n",
              " 0.633569309617529,\n",
              " 0.4725787238760929,\n",
              " 0.6546115262422527,\n",
              " 0.6940990458019903,\n",
              " 0.6377686106488482,\n",
              " 0.6671537481762986,\n",
              " 0.5234078571175965,\n",
              " 0.6578664249503863,\n",
              " 0.5706964517287617,\n",
              " 0.5546898115020331,\n",
              " 0.5868955892697565,\n",
              " 0.5930099558483496,\n",
              " 0.6265118825324237,\n",
              " 0.5889873853861862,\n",
              " 0.6580788718157518,\n",
              " 0.5266283408911591,\n",
              " 0.6843277504773916,\n",
              " 0.46902069451110734,\n",
              " 0.619881605858907,\n",
              " 0.4973618307187101,\n",
              " 0.6522220331993845,\n",
              " 0.5757772780933975]"
            ]
          },
          "metadata": {},
          "execution_count": 9
        }
      ],
      "source": [
        "gini_real"
      ]
    },
    {
      "cell_type": "markdown",
      "id": "90098fc3",
      "metadata": {
        "id": "90098fc3"
      },
      "source": [
        "# Plot histogram for input (real images) gini indices"
      ]
    },
    {
      "cell_type": "code",
      "execution_count": 10,
      "id": "169b2818",
      "metadata": {
        "colab": {
          "base_uri": "https://localhost:8080/",
          "height": 513
        },
        "id": "169b2818",
        "outputId": "22020534-3318-4c20-9bcd-f656f3a95389"
      },
      "outputs": [
        {
          "output_type": "display_data",
          "data": {
            "text/plain": [
              "<Figure size 720x576 with 1 Axes>"
            ],
            "image/png": "[encoded data removed]"
          },
          "metadata": {
            "needs_background": "light"
          }
        }
      ],
      "source": [
        "import matplotlib.pyplot as plt\n",
        "import numpy as np\n",
        "\n",
        "plt.figure(figsize=(10,8))\n",
        "plt.hist(gini_real)\n",
        "plt.xlabel(f\"Gini Index\")\n",
        "plt.ylabel(f\"Real Galaxy Image Count\")\n",
        "plt.title(f\"Gini Indices of 64 Real galaxy images: \")\n",
        "plt.show();"
      ]
    },
    {
      "cell_type": "markdown",
      "id": "bd48114c",
      "metadata": {
        "id": "bd48114c"
      },
      "source": [
        "# Load generated images"
      ]
    },
    {
      "cell_type": "code",
      "execution_count": 11,
      "id": "4ea014d1",
      "metadata": {
        "id": "4ea014d1"
      },
      "outputs": [],
      "source": [
        "data2 = \"/content/drive/MyDrive/genrated/\""
      ]
    },
    {
      "cell_type": "code",
      "execution_count": 12,
      "id": "2d6771af",
      "metadata": {
        "id": "2d6771af"
      },
      "outputs": [],
      "source": [
        "#Convert to numpy array\n",
        "def readImage(path,image_size=(256,256)):\n",
        "    img2 = np.asarray(PIL.Image.open(path).resize(image_size))\n",
        "    \n",
        "    img2 = ((img2 - 127.5) / 127.5).astype(\"float32\")\n",
        "    return img2"
      ]
    },
    {
      "cell_type": "markdown",
      "source": [
        "- We create a list of Gini indices for generated galaxy images "
      ],
      "metadata": {
        "id": "lASd4G4peWKK"
      },
      "id": "lASd4G4peWKK"
    },
    {
      "cell_type": "code",
      "execution_count": 13,
      "id": "998f33cf",
      "metadata": {
        "id": "998f33cf"
      },
      "outputs": [],
      "source": [
        "gini_generated=[]\n",
        "img2 =os.listdir(data2)[:63]\n",
        "for i in img2:\n",
        "    image_path=os.path.join(data2, i)\n",
        "    ginigenerated = gini(readImage(image_path))\n",
        "    gini_generated.append(ginigenerated)"
      ]
    },
    {
      "cell_type": "code",
      "execution_count": 14,
      "id": "afb185e2",
      "metadata": {
        "colab": {
          "base_uri": "https://localhost:8080/"
        },
        "id": "afb185e2",
        "outputId": "76eaf1d2-fae6-47be-85d7-8d9471391ec9"
      },
      "outputs": [
        {
          "output_type": "execute_result",
          "data": {
            "text/plain": [
              "[0.5277669589760388,\n",
              " 0.418585392845321,\n",
              " 0.45802441251763715,\n",
              " 0.40407090355293107,\n",
              " 0.39810793996669175,\n",
              " 0.4881990868180447,\n",
              " 0.5012595711014592,\n",
              " 0.45860173319307823,\n",
              " 0.2789734884003762,\n",
              " 0.45544646917501014,\n",
              " 0.4591626150244145,\n",
              " 0.4398540910805907,\n",
              " 0.36340417155300764,\n",
              " 0.4904254180075271,\n",
              " 0.4097706078248147,\n",
              " 0.39796596572832676,\n",
              " 0.39583811524203666,\n",
              " 0.39793770122488026,\n",
              " 0.41257383678676507,\n",
              " 0.5103486926046149,\n",
              " 0.3671378555536387,\n",
              " 0.39939378746017756,\n",
              " 0.3576032165152784,\n",
              " 0.36635104819966186,\n",
              " 0.5594974152477938,\n",
              " 0.43857707756555303,\n",
              " 0.3797594687692639,\n",
              " 0.5063496314496349,\n",
              " 0.36995791166557573,\n",
              " 0.44560101380304135,\n",
              " 0.4835867629411273,\n",
              " 0.357000101448795,\n",
              " 0.47159903544920545,\n",
              " 0.41149205610011236,\n",
              " 0.3225731008349304,\n",
              " 0.39745229484419253,\n",
              " 0.5056802546450097,\n",
              " 0.3626129809099701,\n",
              " 0.35637849255834403,\n",
              " 0.37432636717550305,\n",
              " 0.40229000292081596,\n",
              " 0.5028583458702913,\n",
              " 0.3749481019498228,\n",
              " 0.5269712544385408,\n",
              " 0.45166647162554824,\n",
              " 0.4054143622600453,\n",
              " 0.4262644022675046,\n",
              " 0.5041467510505505,\n",
              " 0.42250599700425795,\n",
              " 0.3957739868293919,\n",
              " 0.412301402215859,\n",
              " 0.38368653284316184,\n",
              " 0.45969304017309903,\n",
              " 0.4848691252686522,\n",
              " 0.47976394582386506,\n",
              " 0.3587539434783991,\n",
              " 0.4200122447561195,\n",
              " 0.34391618292984943,\n",
              " 0.4718270148403688,\n",
              " 0.442439081954703,\n",
              " 0.3370591415919633,\n",
              " 0.42284814081120525,\n",
              " 0.46032369592596506]"
            ]
          },
          "metadata": {},
          "execution_count": 14
        }
      ],
      "source": [
        "gini_generated"
      ]
    },
    {
      "cell_type": "markdown",
      "id": "5a38fcb5",
      "metadata": {
        "id": "5a38fcb5"
      },
      "source": [
        "# Plot histogram for generated gini indices"
      ]
    },
    {
      "cell_type": "code",
      "execution_count": 15,
      "id": "766d8b18",
      "metadata": {
        "colab": {
          "base_uri": "https://localhost:8080/",
          "height": 513
        },
        "id": "766d8b18",
        "outputId": "d83f909e-0b50-4d90-d219-ec78c9318d79"
      },
      "outputs": [
        {
          "output_type": "display_data",
          "data": {
            "text/plain": [
              "<Figure size 720x576 with 1 Axes>"
            ],
            "image/png": "[encoded data removed]"
          },
          "metadata": {
            "needs_background": "light"
          }
        }
      ],
      "source": [
        "plt.figure(figsize=(10,8))\n",
        "plt.hist(gini_generated)\n",
        "plt.xlabel(f\"Gini Index\")\n",
        "plt.ylabel(f\"Generated Galaxy Image Count\")\n",
        "plt.title(f\"Gini Indices of 64 generated galaxy images: \")\n",
        "plt.show();"
      ]
    },
    {
      "cell_type": "markdown",
      "id": "1c223935",
      "metadata": {
        "id": "1c223935"
      },
      "source": [
        "- To compare Gini index of Real and Generated images, we put them together in a DataFrame"
      ]
    },
    {
      "cell_type": "code",
      "execution_count": 16,
      "id": "cd8af824",
      "metadata": {
        "id": "cd8af824"
      },
      "outputs": [],
      "source": [
        "dfg = pd.DataFrame(list(zip(gini_real, gini_generated)),\n",
        "                  columns = ['Gini_real','Gini_generated'])"
      ]
    },
    {
      "cell_type": "code",
      "execution_count": 17,
      "id": "3c39d26c",
      "metadata": {
        "colab": {
          "base_uri": "https://localhost:8080/",
          "height": 424
        },
        "id": "3c39d26c",
        "outputId": "5ed495af-2ad9-4edc-fad7-763c04211ddd"
      },
      "outputs": [
        {
          "output_type": "execute_result",
          "data": {
            "text/plain": [
              "    Gini_real  Gini_generated\n",
              "0    0.568186        0.527767\n",
              "1    0.493151        0.418585\n",
              "2    0.513331        0.458024\n",
              "3    0.696107        0.404071\n",
              "4    0.638179        0.398108\n",
              "..        ...             ...\n",
              "58   0.469021        0.471827\n",
              "59   0.619882        0.442439\n",
              "60   0.497362        0.337059\n",
              "61   0.652222        0.422848\n",
              "62   0.575777        0.460324\n",
              "\n",
              "[63 rows x 2 columns]"
            ],
            "text/html": [
              "\n",
              "  <div id=\"df-55935d0c-c3a4-4f07-99a8-bc7a4baa1dd6\">\n",
              "    <div class=\"colab-df-container\">\n",
              "      <div>\n",
              "<style scoped>\n",
              "    .dataframe tbody tr th:only-of-type {\n",
              "        vertical-align: middle;\n",
              "    }\n",
              "\n",
              "    .dataframe tbody tr th {\n",
              "        vertical-align: top;\n",
              "    }\n",
              "\n",
              "    .dataframe thead th {\n",
              "        text-align: right;\n",
              "    }\n",
              "</style>\n",
              "<table border=\"1\" class=\"dataframe\">\n",
              "  <thead>\n",
              "    <tr style=\"text-align: right;\">\n",
              "      <th></th>\n",
              "      <th>Gini_real</th>\n",
              "      <th>Gini_generated</th>\n",
              "    </tr>\n",
              "  </thead>\n",
              "  <tbody>\n",
              "    <tr>\n",
              "      <th>0</th>\n",
              "      <td>0.568186</td>\n",
              "      <td>0.527767</td>\n",
              "    </tr>\n",
              "    <tr>\n",
              "      <th>1</th>\n",
              "      <td>0.493151</td>\n",
              "      <td>0.418585</td>\n",
              "    </tr>\n",
              "    <tr>\n",
              "      <th>2</th>\n",
              "      <td>0.513331</td>\n",
              "      <td>0.458024</td>\n",
              "    </tr>\n",
              "    <tr>\n",
              "      <th>3</th>\n",
              "      <td>0.696107</td>\n",
              "      <td>0.404071</td>\n",
              "    </tr>\n",
              "    <tr>\n",
              "      <th>4</th>\n",
              "      <td>0.638179</td>\n",
              "      <td>0.398108</td>\n",
              "    </tr>\n",
              "    <tr>\n",
              "      <th>...</th>\n",
              "      <td>...</td>\n",
              "      <td>...</td>\n",
              "    </tr>\n",
              "    <tr>\n",
              "      <th>58</th>\n",
              "      <td>0.469021</td>\n",
              "      <td>0.471827</td>\n",
              "    </tr>\n",
              "    <tr>\n",
              "      <th>59</th>\n",
              "      <td>0.619882</td>\n",
              "      <td>0.442439</td>\n",
              "    </tr>\n",
              "    <tr>\n",
              "      <th>60</th>\n",
              "      <td>0.497362</td>\n",
              "      <td>0.337059</td>\n",
              "    </tr>\n",
              "    <tr>\n",
              "      <th>61</th>\n",
              "      <td>0.652222</td>\n",
              "      <td>0.422848</td>\n",
              "    </tr>\n",
              "    <tr>\n",
              "      <th>62</th>\n",
              "      <td>0.575777</td>\n",
              "      <td>0.460324</td>\n",
              "    </tr>\n",
              "  </tbody>\n",
              "</table>\n",
              "<p>63 rows × 2 columns</p>\n",
              "</div>\n",
              "      <button class=\"colab-df-convert\" onclick=\"convertToInteractive('df-55935d0c-c3a4-4f07-99a8-bc7a4baa1dd6')\"\n",
              "              title=\"Convert this dataframe to an interactive table.\"\n",
              "              style=\"display:none;\">\n",
              "        \n",
              "  <svg xmlns=\"http://www.w3.org/2000/svg\" height=\"24px\"viewBox=\"0 0 24 24\"\n",
              "       width=\"24px\">\n",
              "    <path d=\"M0 0h24v24H0V0z\" fill=\"none\"/>\n",
              "    <path d=\"M18.56 5.44l.94 2.06.94-2.06 2.06-.94-2.06-.94-.94-2.06-.94 2.06-2.06.94zm-11 1L8.5 8.5l.94-2.06 2.06-.94-2.06-.94L8.5 2.5l-.94 2.06-2.06.94zm10 10l.94 2.06.94-2.06 2.06-.94-2.06-.94-.94-2.06-.94 2.06-2.06.94z\"/><path d=\"M17.41 7.96l-1.37-1.37c-.4-.4-.92-.59-1.43-.59-.52 0-1.04.2-1.43.59L10.3 9.45l-7.72 7.72c-.78.78-.78 2.05 0 2.83L4 21.41c.39.39.9.59 1.41.59.51 0 1.02-.2 1.41-.59l7.78-7.78 2.81-2.81c.8-.78.8-2.07 0-2.86zM5.41 20L4 18.59l7.72-7.72 1.47 1.35L5.41 20z\"/>\n",
              "  </svg>\n",
              "      </button>\n",
              "      \n",
              "  <style>\n",
              "    .colab-df-container {\n",
              "      display:flex;\n",
              "      flex-wrap:wrap;\n",
              "      gap: 12px;\n",
              "    }\n",
              "\n",
              "    .colab-df-convert {\n",
              "      background-color: #E8F0FE;\n",
              "      border: none;\n",
              "      border-radius: 50%;\n",
              "      cursor: pointer;\n",
              "      display: none;\n",
              "      fill: #1967D2;\n",
              "      height: 32px;\n",
              "      padding: 0 0 0 0;\n",
              "      width: 32px;\n",
              "    }\n",
              "\n",
              "    .colab-df-convert:hover {\n",
              "      background-color: #E2EBFA;\n",
              "      box-shadow: 0px 1px 2px rgba(60, 64, 67, 0.3), 0px 1px 3px 1px rgba(60, 64, 67, 0.15);\n",
              "      fill: #174EA6;\n",
              "    }\n",
              "\n",
              "    [theme=dark] .colab-df-convert {\n",
              "      background-color: #3B4455;\n",
              "      fill: #D2E3FC;\n",
              "    }\n",
              "\n",
              "    [theme=dark] .colab-df-convert:hover {\n",
              "      background-color: #434B5C;\n",
              "      box-shadow: 0px 1px 3px 1px rgba(0, 0, 0, 0.15);\n",
              "      filter: drop-shadow(0px 1px 2px rgba(0, 0, 0, 0.3));\n",
              "      fill: #FFFFFF;\n",
              "    }\n",
              "  </style>\n",
              "\n",
              "      <script>\n",
              "        const buttonEl =\n",
              "          document.querySelector('#df-55935d0c-c3a4-4f07-99a8-bc7a4baa1dd6 button.colab-df-convert');\n",
              "        buttonEl.style.display =\n",
              "          google.colab.kernel.accessAllowed ? 'block' : 'none';\n",
              "\n",
              "        async function convertToInteractive(key) {\n",
              "          const element = document.querySelector('#df-55935d0c-c3a4-4f07-99a8-bc7a4baa1dd6');\n",
              "          const dataTable =\n",
              "            await google.colab.kernel.invokeFunction('convertToInteractive',\n",
              "                                                     [key], {});\n",
              "          if (!dataTable) return;\n",
              "\n",
              "          const docLinkHtml = 'Like what you see? Visit the ' +\n",
              "            '<a target=\"_blank\" href=https://colab.research.google.com/notebooks/data_table.ipynb>data table notebook</a>'\n",
              "            + ' to learn more about interactive tables.';\n",
              "          element.innerHTML = '';\n",
              "          dataTable['output_type'] = 'display_data';\n",
              "          await google.colab.output.renderOutput(dataTable, element);\n",
              "          const docLink = document.createElement('div');\n",
              "          docLink.innerHTML = docLinkHtml;\n",
              "          element.appendChild(docLink);\n",
              "        }\n",
              "      </script>\n",
              "    </div>\n",
              "  </div>\n",
              "  "
            ]
          },
          "metadata": {},
          "execution_count": 17
        }
      ],
      "source": [
        "dfg"
      ]
    },
    {
      "cell_type": "markdown",
      "id": "2e628652",
      "metadata": {
        "id": "2e628652"
      },
      "source": [
        "# Visualization of Gini Index for Real and Generated images"
      ]
    },
    {
      "cell_type": "code",
      "execution_count": 18,
      "id": "b57a59f1",
      "metadata": {
        "colab": {
          "base_uri": "https://localhost:8080/",
          "height": 355
        },
        "id": "b57a59f1",
        "outputId": "7971daf0-14d9-4fa4-8338-0618a3740f7c"
      },
      "outputs": [
        {
          "output_type": "display_data",
          "data": {
            "text/plain": [
              "<Figure size 720x360 with 1 Axes>"
            ],
            "image/png": "[encoded data removed]"
          },
          "metadata": {}
        }
      ],
      "source": [
        "import seaborn as sns\n",
        "import matplotlib.pyplot as plt \n",
        "sns.set(style=\"whitegrid\")\n",
        "plt.figure(figsize=(10,5))\n",
        "sns.histplot(data=dfg, x=\"Gini_real\", color=\"tomato\", label=\"Real galaxy images\", kde=False)\n",
        "sns.histplot(data=dfg, x=\"Gini_generated\", color=\"cyan\", label=\"Generated galaxy images\", kde=False)\n",
        "\n",
        "plt.title(\"Gini indices of Real and generated galaxy images\")\n",
        "plt.legend() \n",
        "plt.show()"
      ]
    },
    {
      "cell_type": "markdown",
      "id": "7735e588",
      "metadata": {
        "id": "7735e588"
      },
      "source": [
        "- The above histogram shows the Gini index of real and generated galaxies overlapping between 0.42 and 0.56.\n",
        "- Gini index below 0.42 were recorded from generated images only.\n",
        "- Gini index above 0.56 were obtained from real images only."
      ]
    },
    {
      "cell_type": "markdown",
      "id": "9bec93f3",
      "metadata": {
        "id": "9bec93f3"
      },
      "source": [
        "- Next, we will carry out an hypothesis test to compare the Gini mean values of the real with the Gini mean values of the generated galaxy images."
      ]
    },
    {
      "cell_type": "markdown",
      "id": "aa5a4044",
      "metadata": {
        "id": "aa5a4044"
      },
      "source": [
        "# Hypothesis Test"
      ]
    },
    {
      "cell_type": "markdown",
      "id": "d0fc2c98",
      "metadata": {
        "id": "d0fc2c98"
      },
      "source": [
        "- We carry out hypothesis testing on the gini indices of real & generated images"
      ]
    },
    {
      "cell_type": "code",
      "execution_count": 19,
      "id": "8884f6df",
      "metadata": {
        "colab": {
          "base_uri": "https://localhost:8080/"
        },
        "id": "8884f6df",
        "outputId": "1d24cd5a-0511-4ed4-b3f2-330f9cc0b358"
      },
      "outputs": [
        {
          "output_type": "stream",
          "name": "stdout",
          "text": [
            "Gini_real mean value: 0.5890\n",
            "Gini_generated mean value: 0.4252\n",
            "Gini_real std value: 0.0761\n",
            "Gini_generated std value : 0.0573\n",
            "p-value 3.3944546060350494e-26\n",
            "We reject null hypothesis\n"
          ]
        }
      ],
      "source": [
        "#https://towardsdatascience.com/hypothesis-testing-in-machine-learning-using-python-a0dc89e169ce\n",
        "from scipy.stats import ttest_ind\n",
        "import numpy as np\n",
        "\n",
        "gini_real_mean = np.mean(gini_real)\n",
        "gini_generated_mean = np.mean(gini_generated)\n",
        "print(\"Gini_real mean value: {:.4f}\".format(gini_real_mean))\n",
        "print(\"Gini_generated mean value: {:.4f}\".format(gini_generated_mean))\n",
        "gini_real_std = np.std(gini_real)\n",
        "gini_generated_std = np.std(gini_generated)\n",
        "print(\"Gini_real std value: {:.4f}\".format(gini_real_std))\n",
        "print(\"Gini_generated std value : {:.4f}\".format(gini_generated_std))\n",
        "ttest,pval = ttest_ind(dfg['Gini_real'], dfg['Gini_generated'])\n",
        "print(\"p-value\",pval)\n",
        "if pval <0.05:\n",
        "    print(\"We reject null hypothesis\")\n",
        "else:\n",
        "    print(\"We accept null hypothesis\")\n"
      ]
    },
    {
      "cell_type": "markdown",
      "id": "659c906b",
      "metadata": {
        "id": "659c906b"
      },
      "source": [
        "- The two hypotheses for this particular paired samples t-test are as follows:\n",
        "\n",
        "- H0: µ1 = µ2 (the mean of real galaxy gini indices and the mean of generated galaxy gini indices are equal)\n",
        "- HA: µ1 ≠ µ2 (the mean of real galaxy gini indices and the mean of generated galaxy gini indices are not equal)\n",
        "- Since the p-value of the test (3.3944546060350494e-26) is less than 0.05, we reject the null hypothesis."
      ]
    },
    {
      "cell_type": "markdown",
      "id": "f958a442",
      "metadata": {
        "id": "f958a442"
      },
      "source": [
        "- This means we have sufficient evidence to say that the mean of real gini and the mean of generated gini is not equal."
      ]
    },
    {
      "cell_type": "markdown",
      "id": "af4757e7",
      "metadata": {
        "id": "af4757e7"
      },
      "source": [
        "# Smoothness for Real Images."
      ]
    },
    {
      "cell_type": "code",
      "execution_count": 20,
      "id": "2d984a87",
      "metadata": {
        "id": "2d984a87"
      },
      "outputs": [],
      "source": [
        "#Create a Function to derive the smoothness of the Real Images\n",
        "def smoothness(data):\n",
        "    data = cv2.imread(data)\n",
        "    data = cv2.cvtColor(np.float32(data), cv2.COLOR_RGB2GRAY)\n",
        "    blur= cv2.GaussianBlur(data,(7,7),0)\n",
        "    np.seterr(all='ignore')\n",
        "    s=(data-blur)\n",
        "    s=np.divide(s, data, out=np.zeros_like(s), where=data!=0)\n",
        "    s[s == np.inf] = 0\n",
        "    s=np.absolute(s).sum()\n",
        "    return s    "
      ]
    },
    {
      "cell_type": "code",
      "execution_count": 21,
      "id": "c6bc0383",
      "metadata": {
        "id": "c6bc0383"
      },
      "outputs": [],
      "source": [
        "#Convert to numpy array\n",
        "def readImage(path,image_size=(256,256)):\n",
        "    img = np.asarray(PIL.Image.open(path).resize(image_size))\n",
        "    img = ((img - 127.5) / 127.5).astype(\"float32\")\n",
        "    return img"
      ]
    },
    {
      "cell_type": "code",
      "execution_count": 22,
      "id": "19d190fd",
      "metadata": {
        "id": "19d190fd"
      },
      "outputs": [],
      "source": [
        "datar = \"/content/drive/MyDrive/RealImages/\""
      ]
    },
    {
      "cell_type": "code",
      "execution_count": 23,
      "id": "9469a6f0",
      "metadata": {
        "id": "9469a6f0"
      },
      "outputs": [],
      "source": [
        "#We create a list of smoothness coeffecients for real images \n",
        "sListReal=[]\n",
        "imgList=os.listdir(datar)[:63]\n",
        "for i in imgList:\n",
        "    imgPath=os.path.join(datar, i)\n",
        "    sRcoeff=smoothness(imgPath)\n",
        "    sListReal.append(sRcoeff)"
      ]
    },
    {
      "cell_type": "code",
      "execution_count": 24,
      "id": "8cd5cdb1",
      "metadata": {
        "scrolled": true,
        "colab": {
          "base_uri": "https://localhost:8080/"
        },
        "id": "8cd5cdb1",
        "outputId": "fe72c9a1-d20f-4a66-f527-bb3cdb2407c7"
      },
      "outputs": [
        {
          "output_type": "execute_result",
          "data": {
            "text/plain": [
              "[1629.266,\n",
              " 1021.0224,\n",
              " 1226.0696,\n",
              " 1813.5667,\n",
              " 2002.5325,\n",
              " 2582.69,\n",
              " 1210.8829,\n",
              " 1229.7908,\n",
              " 2178.792,\n",
              " 1467.1921,\n",
              " 1695.574,\n",
              " 1579.6355,\n",
              " 1274.2288,\n",
              " 1311.1361,\n",
              " 2449.2573,\n",
              " 2074.1206,\n",
              " 1161.9905,\n",
              " 1248.2815,\n",
              " 2085.5347,\n",
              " 1498.5112,\n",
              " 1491.4069,\n",
              " 2411.4692,\n",
              " 1784.0916,\n",
              " 2128.592,\n",
              " 926.9121,\n",
              " 1658.1895,\n",
              " 836.3319,\n",
              " 1285.515,\n",
              " 1889.2544,\n",
              " 1990.8933,\n",
              " 1471.5791,\n",
              " 1196.4017,\n",
              " 1808.7639,\n",
              " 1854.6833,\n",
              " 1474.7173,\n",
              " 1284.7102,\n",
              " 2208.528,\n",
              " 1871.8254,\n",
              " 1429.6606,\n",
              " 1019.7666,\n",
              " 1251.0527,\n",
              " 1735.7441,\n",
              " 1400.5581,\n",
              " 1956.5544,\n",
              " 2183.9883,\n",
              " 1147.5492,\n",
              " 1972.6433,\n",
              " 1313.2135,\n",
              " 1909.2925,\n",
              " 1498.5815,\n",
              " 1805.4995,\n",
              " 1569.3904,\n",
              " 1789.9387,\n",
              " 1298.0986,\n",
              " 1465.0747,\n",
              " 2408.6655,\n",
              " 1510.829,\n",
              " 2045.4104,\n",
              " 1287.0829,\n",
              " 2084.287,\n",
              " 1204.232,\n",
              " 1259.2437,\n",
              " 967.1635]"
            ]
          },
          "metadata": {},
          "execution_count": 24
        }
      ],
      "source": [
        "sListReal"
      ]
    },
    {
      "cell_type": "code",
      "execution_count": 25,
      "id": "80c1eb80",
      "metadata": {
        "colab": {
          "base_uri": "https://localhost:8080/"
        },
        "id": "80c1eb80",
        "outputId": "56fa5160-03df-456b-da5a-21270e2a0622"
      },
      "outputs": [
        {
          "output_type": "stream",
          "name": "stdout",
          "text": [
            "Real Normalized Array =  [0.45405012454420873, 0.10575751782535711, 0.22317168856922873, 0.5595844169279468, 0.6677900751179648, 1.0, 0.21447550758711367, 0.22530251818009928, 0.7687198491000209, 0.36124335207933084, 0.4920194195998718, 0.42563069837374307, 0.2507486108261718, 0.2718825065976801, 0.923593779325207, 0.7087828918511705, 0.18647869642213688, 0.23589068069604957, 0.7153188153498858, 0.3791772987379916, 0.37510919243556884, 0.9019555555244889, 0.5427063786835955, 0.7399743397339539, 0.0518680582811676, 0.470612284983432, 0.0, 0.25721134909320564, 0.602924753069743, 0.6611252561395734, 0.3637554159343192, 0.20618327832790967, 0.5568342738952053, 0.5831286721493846, 0.3655524034568314, 0.25675049882340933, 0.7857473334048642, 0.5929445801862344, 0.3397520579414539, 0.10503842224663283, 0.237477549014708, 0.5150216707272703, 0.32308735429795477, 0.6414621248951065, 0.7716953495223913, 0.17820932444159562, 0.650674936294947, 0.27307206368722853, 0.6143989671585641, 0.3792175611004067, 0.5549650098401633, 0.4197641366501784, 0.5460545855580444, 0.26441698386674556, 0.3600308678111849, 0.9003500938231874, 0.3862306914536495, 0.6923428465979528, 0.2581091438551142, 0.7146044380167571, 0.21066707954228125, 0.24216783463632638, 0.07491682781514124]\n"
          ]
        }
      ],
      "source": [
        "#We create an explicit function to normalize array\n",
        "def normalize(arr, t_min, t_max):\n",
        "    norm_arr = []\n",
        "    diff = t_max - t_min\n",
        "    diff_arr = max(arr) - min(arr)\n",
        "    for i in arr:\n",
        "        temp = (((i - min(arr))*diff)/diff_arr) + t_min\n",
        "        norm_arr.append(temp)\n",
        "    return norm_arr\n",
        "\n",
        "# assign array and range\n",
        "array_1d = sListReal\n",
        "range_to_normalize = (0, 1)\n",
        "sListNormReal = normalized_array_1d = normalize(\n",
        "    array_1d, range_to_normalize[0],\n",
        "range_to_normalize[1])\n",
        "\n",
        "# display the normalized array\n",
        "print(\"Real Normalized Array = \", normalized_array_1d)\n"
      ]
    },
    {
      "cell_type": "markdown",
      "source": [
        "- Visualize the smoothness coefficients for Real images."
      ],
      "metadata": {
        "id": "TRyhBxMEgp_C"
      },
      "id": "TRyhBxMEgp_C"
    },
    {
      "cell_type": "code",
      "source": [
        "plt.figure(figsize=(10,8))\n",
        "plt.hist(sListNormReal)\n",
        "plt.xlabel(f\"Smoothness\")\n",
        "plt.ylabel(f\"Real Galaxy Image Count\")\n",
        "plt.title(f\"Smoothness of 64 Real galaxy images: \")\n",
        "plt.show();"
      ],
      "metadata": {
        "colab": {
          "base_uri": "https://localhost:8080/",
          "height": 518
        },
        "id": "T6DvnEkCghj_",
        "outputId": "84717d21-994c-45e6-beb5-926dd5b4cb5d"
      },
      "id": "T6DvnEkCghj_",
      "execution_count": 26,
      "outputs": [
        {
          "output_type": "display_data",
          "data": {
            "text/plain": [
              "<Figure size 720x576 with 1 Axes>"
            ],
            "image/png": "[encoded data removed]"
          },
          "metadata": {}
        }
      ]
    },
    {
      "cell_type": "markdown",
      "source": [
        "- The histogram above shows that more real images recorded smoothness coefficient of 0.5 and above than below."
      ],
      "metadata": {
        "id": "KMaqhqOqhBHW"
      },
      "id": "KMaqhqOqhBHW"
    },
    {
      "cell_type": "markdown",
      "source": [
        "# Smoothness for Generated images."
      ],
      "metadata": {
        "id": "57B8cgqMhMGa"
      },
      "id": "57B8cgqMhMGa"
    },
    {
      "cell_type": "code",
      "execution_count": 27,
      "id": "1b2898b9",
      "metadata": {
        "id": "1b2898b9"
      },
      "outputs": [],
      "source": [
        "datag = \"/content/drive/MyDrive/genrated/\""
      ]
    },
    {
      "cell_type": "code",
      "execution_count": 28,
      "id": "687d7dbe",
      "metadata": {
        "id": "687d7dbe"
      },
      "outputs": [],
      "source": [
        "#Create a Function to derive the smoothness of generated images\n",
        "def smoothness(datag):\n",
        "    datag = cv2.imread(datag)\n",
        "    datag = cv2.cvtColor(np.float32(datag), cv2.COLOR_RGB2GRAY)\n",
        "    blur= cv2.GaussianBlur(datag,(7,7),0)\n",
        "    np.seterr(all='ignore')\n",
        "    s=(datag-blur)\n",
        "    s=np.divide(s, datag, out=np.zeros_like(s), where=datag!=0)\n",
        "    s[s == np.inf] = 0\n",
        "    s=np.absolute(s).sum()\n",
        "    return s    "
      ]
    },
    {
      "cell_type": "code",
      "execution_count": 29,
      "id": "d1e795e8",
      "metadata": {
        "id": "d1e795e8"
      },
      "outputs": [],
      "source": [
        "#We create a list of smoothness coeffecients for generated images \n",
        "sListGenrated=[]\n",
        "imgList=os.listdir(datag)[:63]\n",
        "for i in imgList:\n",
        "    imgPath=os.path.join(datag, i)\n",
        "    sGcoeff=smoothness(imgPath)\n",
        "    sListGenrated.append(sGcoeff)"
      ]
    },
    {
      "cell_type": "code",
      "execution_count": 30,
      "id": "baff482b",
      "metadata": {
        "colab": {
          "base_uri": "https://localhost:8080/"
        },
        "id": "baff482b",
        "outputId": "28bebdb4-5430-4c77-9d10-641639ac4ef3"
      },
      "outputs": [
        {
          "output_type": "execute_result",
          "data": {
            "text/plain": [
              "[380.60757,\n",
              " 415.86115,\n",
              " 331.56836,\n",
              " 402.3117,\n",
              " 305.83035,\n",
              " 400.82837,\n",
              " 363.52472,\n",
              " 433.81818,\n",
              " 407.4519,\n",
              " 391.25955,\n",
              " 331.68945,\n",
              " 357.7861,\n",
              " 395.78418,\n",
              " 410.0108,\n",
              " 459.86823,\n",
              " 300.62598,\n",
              " 457.35974,\n",
              " 400.5046,\n",
              " 375.36536,\n",
              " 429.30737,\n",
              " 383.24292,\n",
              " 336.11267,\n",
              " 443.46198,\n",
              " 401.86688,\n",
              " 428.17273,\n",
              " 400.50763,\n",
              " 314.5416,\n",
              " 400.59268,\n",
              " 321.9387,\n",
              " 341.8076,\n",
              " 381.5263,\n",
              " 380.70413,\n",
              " 336.5498,\n",
              " 320.98065,\n",
              " 356.3243,\n",
              " 421.13574,\n",
              " 431.699,\n",
              " 418.6781,\n",
              " 288.96368,\n",
              " 356.97052,\n",
              " 500.74725,\n",
              " 431.46094,\n",
              " 345.76495,\n",
              " 243.56216,\n",
              " 337.74475,\n",
              " 365.75934,\n",
              " 331.39444,\n",
              " 414.73517,\n",
              " 417.7129,\n",
              " 340.15082,\n",
              " 334.89636,\n",
              " 413.64456,\n",
              " 392.20703,\n",
              " 399.02643,\n",
              " 298.6324,\n",
              " 392.4326,\n",
              " 326.11182,\n",
              " 371.05072,\n",
              " 376.59872,\n",
              " 325.0004,\n",
              " 398.9673,\n",
              " 411.78058,\n",
              " 351.31088]"
            ]
          },
          "metadata": {},
          "execution_count": 30
        }
      ],
      "source": [
        "sListGenrated"
      ]
    },
    {
      "cell_type": "code",
      "execution_count": 31,
      "id": "4eab0e31",
      "metadata": {
        "colab": {
          "base_uri": "https://localhost:8080/"
        },
        "id": "4eab0e31",
        "outputId": "d4fcfc1d-4982-4a65-e049-ad50942fe857"
      },
      "outputs": [
        {
          "output_type": "stream",
          "name": "stdout",
          "text": [
            "Generated Normalized Array =  [0.5328668572108662, 0.6699415635185105, 0.34219011441314157, 0.6172579552915292, 0.24211430255044206, 0.6114903681912457, 0.4664444402517917, 0.7397629956709278, 0.6372443307523601, 0.5742844120771655, 0.3426609572229577, 0.4441312611977942, 0.5918772970347701, 0.6471939702692668, 0.8410521058527731, 0.2218783851468079, 0.8312984926266467, 0.610231504438892, 0.5124838014291646, 0.7222238636853109, 0.5431137399834659, 0.3598595350593377, 0.77726049936155, 0.6155283673893416, 0.7178120855429305, 0.6102432517771409, 0.27598579450155747, 0.6105739571478459, 0.30474755029433015, 0.3820027930186637, 0.5364391159783853, 0.5332422973949031, 0.36155922064598256, 0.3010224574695925, 0.4384474480450234, 0.6904505175414458, 0.7315231278391625, 0.6808945918458521, 0.17653247290606958, 0.4409600731704915, 1.0, 0.7305974613171424, 0.3973900262250427, 0.0, 0.3662054709134125, 0.4751331987966454, 0.3415138711739424, 0.6655634848111069, 0.6771416139252711, 0.37556086123889804, 0.35513022280428896, 0.6613229330232036, 0.5779684485480231, 0.6044839708756193, 0.21412680314225874, 0.578845464477295, 0.32097370957565885, 0.4957074158098526, 0.517279444614326, 0.3166522316798183, 0.6042540078298976, 0.6540752999635358, 0.4189539861507188]\n"
          ]
        }
      ],
      "source": [
        "# create explicit function to normalize array\n",
        "def normalize(arr, t_min, t_max):\n",
        "    norm_arr = []\n",
        "    diff = t_max - t_min\n",
        "    diff_arr = max(arr) - min(arr)\n",
        "    for i in arr:\n",
        "        temp = (((i - min(arr))*diff)/diff_arr) + t_min\n",
        "        norm_arr.append(temp)\n",
        "    return norm_arr\n",
        "\n",
        "# assign array and range\n",
        "array_1d = sListGenrated\n",
        "range_to_normalize = (0, 1)\n",
        "sListNormGenrated = normalized_array_1d = normalize(\n",
        "    array_1d, range_to_normalize[0],\n",
        "range_to_normalize[1])\n",
        "\n",
        "# display the generated normalized array\n",
        "print(\"Generated Normalized Array = \", normalized_array_1d)\n"
      ]
    },
    {
      "cell_type": "markdown",
      "id": "a8432f0b",
      "metadata": {
        "id": "a8432f0b"
      },
      "source": [
        "- Visualize smoothness for Generated images."
      ]
    },
    {
      "cell_type": "code",
      "execution_count": 32,
      "id": "a225369a",
      "metadata": {
        "colab": {
          "base_uri": "https://localhost:8080/",
          "height": 518
        },
        "id": "a225369a",
        "outputId": "6d7bbdee-1b2d-4056-f722-093db7044251"
      },
      "outputs": [
        {
          "output_type": "display_data",
          "data": {
            "text/plain": [
              "<Figure size 720x576 with 1 Axes>"
            ],
            "image/png": "[encoded data removed]"
          },
          "metadata": {}
        }
      ],
      "source": [
        "plt.figure(figsize=(10,8))\n",
        "plt.hist(sListNormGenrated)\n",
        "plt.xlabel(f\"Smoothness\")\n",
        "plt.ylabel(f\"Generated Galaxy Image Count\")\n",
        "plt.title(f\"Smoothness of 64 generated galaxy images: \")\n",
        "plt.show();"
      ]
    },
    {
      "cell_type": "markdown",
      "id": "e9f2ae86",
      "metadata": {
        "id": "e9f2ae86"
      },
      "source": [
        "- The histogram above shows that more generated images recorded smoothness coefficient of 0.5 and above than below, similar to the real images."
      ]
    },
    {
      "cell_type": "markdown",
      "id": "3f2e6e9f",
      "metadata": {
        "id": "3f2e6e9f"
      },
      "source": [
        "- To compare the smoothness of real images with fake images, we put them together in a DataFrame."
      ]
    },
    {
      "cell_type": "code",
      "execution_count": 33,
      "id": "44e9aa75",
      "metadata": {
        "id": "44e9aa75"
      },
      "outputs": [],
      "source": [
        "df1 = pd.DataFrame(list(zip(sListNormReal,sListNormGenrated)),\n",
        "                  columns = ['Smoothness_Real','Smoothness_Generated'])"
      ]
    },
    {
      "cell_type": "code",
      "execution_count": 34,
      "id": "447d0d68",
      "metadata": {
        "colab": {
          "base_uri": "https://localhost:8080/",
          "height": 424
        },
        "id": "447d0d68",
        "outputId": "aa7f22d2-6e14-4173-ba67-cc2130c2a0c9"
      },
      "outputs": [
        {
          "output_type": "execute_result",
          "data": {
            "text/plain": [
              "    Smoothness_Real  Smoothness_Generated\n",
              "0          0.454050              0.532867\n",
              "1          0.105758              0.669942\n",
              "2          0.223172              0.342190\n",
              "3          0.559584              0.617258\n",
              "4          0.667790              0.242114\n",
              "..              ...                   ...\n",
              "58         0.258109              0.517279\n",
              "59         0.714604              0.316652\n",
              "60         0.210667              0.604254\n",
              "61         0.242168              0.654075\n",
              "62         0.074917              0.418954\n",
              "\n",
              "[63 rows x 2 columns]"
            ],
            "text/html": [
              "\n",
              "  <div id=\"df-d7fe7dd9-5854-4880-9b81-db2172d10f23\">\n",
              "    <div class=\"colab-df-container\">\n",
              "      <div>\n",
              "<style scoped>\n",
              "    .dataframe tbody tr th:only-of-type {\n",
              "        vertical-align: middle;\n",
              "    }\n",
              "\n",
              "    .dataframe tbody tr th {\n",
              "        vertical-align: top;\n",
              "    }\n",
              "\n",
              "    .dataframe thead th {\n",
              "        text-align: right;\n",
              "    }\n",
              "</style>\n",
              "<table border=\"1\" class=\"dataframe\">\n",
              "  <thead>\n",
              "    <tr style=\"text-align: right;\">\n",
              "      <th></th>\n",
              "      <th>Smoothness_Real</th>\n",
              "      <th>Smoothness_Generated</th>\n",
              "    </tr>\n",
              "  </thead>\n",
              "  <tbody>\n",
              "    <tr>\n",
              "      <th>0</th>\n",
              "      <td>0.454050</td>\n",
              "      <td>0.532867</td>\n",
              "    </tr>\n",
              "    <tr>\n",
              "      <th>1</th>\n",
              "      <td>0.105758</td>\n",
              "      <td>0.669942</td>\n",
              "    </tr>\n",
              "    <tr>\n",
              "      <th>2</th>\n",
              "      <td>0.223172</td>\n",
              "      <td>0.342190</td>\n",
              "    </tr>\n",
              "    <tr>\n",
              "      <th>3</th>\n",
              "      <td>0.559584</td>\n",
              "      <td>0.617258</td>\n",
              "    </tr>\n",
              "    <tr>\n",
              "      <th>4</th>\n",
              "      <td>0.667790</td>\n",
              "      <td>0.242114</td>\n",
              "    </tr>\n",
              "    <tr>\n",
              "      <th>...</th>\n",
              "      <td>...</td>\n",
              "      <td>...</td>\n",
              "    </tr>\n",
              "    <tr>\n",
              "      <th>58</th>\n",
              "      <td>0.258109</td>\n",
              "      <td>0.517279</td>\n",
              "    </tr>\n",
              "    <tr>\n",
              "      <th>59</th>\n",
              "      <td>0.714604</td>\n",
              "      <td>0.316652</td>\n",
              "    </tr>\n",
              "    <tr>\n",
              "      <th>60</th>\n",
              "      <td>0.210667</td>\n",
              "      <td>0.604254</td>\n",
              "    </tr>\n",
              "    <tr>\n",
              "      <th>61</th>\n",
              "      <td>0.242168</td>\n",
              "      <td>0.654075</td>\n",
              "    </tr>\n",
              "    <tr>\n",
              "      <th>62</th>\n",
              "      <td>0.074917</td>\n",
              "      <td>0.418954</td>\n",
              "    </tr>\n",
              "  </tbody>\n",
              "</table>\n",
              "<p>63 rows × 2 columns</p>\n",
              "</div>\n",
              "      <button class=\"colab-df-convert\" onclick=\"convertToInteractive('df-d7fe7dd9-5854-4880-9b81-db2172d10f23')\"\n",
              "              title=\"Convert this dataframe to an interactive table.\"\n",
              "              style=\"display:none;\">\n",
              "        \n",
              "  <svg xmlns=\"http://www.w3.org/2000/svg\" height=\"24px\"viewBox=\"0 0 24 24\"\n",
              "       width=\"24px\">\n",
              "    <path d=\"M0 0h24v24H0V0z\" fill=\"none\"/>\n",
              "    <path d=\"M18.56 5.44l.94 2.06.94-2.06 2.06-.94-2.06-.94-.94-2.06-.94 2.06-2.06.94zm-11 1L8.5 8.5l.94-2.06 2.06-.94-2.06-.94L8.5 2.5l-.94 2.06-2.06.94zm10 10l.94 2.06.94-2.06 2.06-.94-2.06-.94-.94-2.06-.94 2.06-2.06.94z\"/><path d=\"M17.41 7.96l-1.37-1.37c-.4-.4-.92-.59-1.43-.59-.52 0-1.04.2-1.43.59L10.3 9.45l-7.72 7.72c-.78.78-.78 2.05 0 2.83L4 21.41c.39.39.9.59 1.41.59.51 0 1.02-.2 1.41-.59l7.78-7.78 2.81-2.81c.8-.78.8-2.07 0-2.86zM5.41 20L4 18.59l7.72-7.72 1.47 1.35L5.41 20z\"/>\n",
              "  </svg>\n",
              "      </button>\n",
              "      \n",
              "  <style>\n",
              "    .colab-df-container {\n",
              "      display:flex;\n",
              "      flex-wrap:wrap;\n",
              "      gap: 12px;\n",
              "    }\n",
              "\n",
              "    .colab-df-convert {\n",
              "      background-color: #E8F0FE;\n",
              "      border: none;\n",
              "      border-radius: 50%;\n",
              "      cursor: pointer;\n",
              "      display: none;\n",
              "      fill: #1967D2;\n",
              "      height: 32px;\n",
              "      padding: 0 0 0 0;\n",
              "      width: 32px;\n",
              "    }\n",
              "\n",
              "    .colab-df-convert:hover {\n",
              "      background-color: #E2EBFA;\n",
              "      box-shadow: 0px 1px 2px rgba(60, 64, 67, 0.3), 0px 1px 3px 1px rgba(60, 64, 67, 0.15);\n",
              "      fill: #174EA6;\n",
              "    }\n",
              "\n",
              "    [theme=dark] .colab-df-convert {\n",
              "      background-color: #3B4455;\n",
              "      fill: #D2E3FC;\n",
              "    }\n",
              "\n",
              "    [theme=dark] .colab-df-convert:hover {\n",
              "      background-color: #434B5C;\n",
              "      box-shadow: 0px 1px 3px 1px rgba(0, 0, 0, 0.15);\n",
              "      filter: drop-shadow(0px 1px 2px rgba(0, 0, 0, 0.3));\n",
              "      fill: #FFFFFF;\n",
              "    }\n",
              "  </style>\n",
              "\n",
              "      <script>\n",
              "        const buttonEl =\n",
              "          document.querySelector('#df-d7fe7dd9-5854-4880-9b81-db2172d10f23 button.colab-df-convert');\n",
              "        buttonEl.style.display =\n",
              "          google.colab.kernel.accessAllowed ? 'block' : 'none';\n",
              "\n",
              "        async function convertToInteractive(key) {\n",
              "          const element = document.querySelector('#df-d7fe7dd9-5854-4880-9b81-db2172d10f23');\n",
              "          const dataTable =\n",
              "            await google.colab.kernel.invokeFunction('convertToInteractive',\n",
              "                                                     [key], {});\n",
              "          if (!dataTable) return;\n",
              "\n",
              "          const docLinkHtml = 'Like what you see? Visit the ' +\n",
              "            '<a target=\"_blank\" href=https://colab.research.google.com/notebooks/data_table.ipynb>data table notebook</a>'\n",
              "            + ' to learn more about interactive tables.';\n",
              "          element.innerHTML = '';\n",
              "          dataTable['output_type'] = 'display_data';\n",
              "          await google.colab.output.renderOutput(dataTable, element);\n",
              "          const docLink = document.createElement('div');\n",
              "          docLink.innerHTML = docLinkHtml;\n",
              "          element.appendChild(docLink);\n",
              "        }\n",
              "      </script>\n",
              "    </div>\n",
              "  </div>\n",
              "  "
            ]
          },
          "metadata": {},
          "execution_count": 34
        }
      ],
      "source": [
        "df1"
      ]
    },
    {
      "cell_type": "markdown",
      "id": "23c7fb9e",
      "metadata": {
        "id": "23c7fb9e"
      },
      "source": [
        "- VISUALIZING SMOOTHNESS COEFFICIENT OF REAL AND GENERATED IMAGES."
      ]
    },
    {
      "cell_type": "code",
      "execution_count": 35,
      "id": "fa275b60",
      "metadata": {
        "colab": {
          "base_uri": "https://localhost:8080/",
          "height": 355
        },
        "id": "fa275b60",
        "outputId": "855c83a7-8065-4b3d-cce1-71bacd7664e2"
      },
      "outputs": [
        {
          "output_type": "display_data",
          "data": {
            "text/plain": [
              "<Figure size 720x360 with 1 Axes>"
            ],
            "image/png": "[encoded data removed]"
          },
          "metadata": {}
        }
      ],
      "source": [
        "import seaborn as sns\n",
        "import matplotlib.pyplot as plt \n",
        "sns.set(style=\"whitegrid\")\n",
        "plt.figure(figsize=(10,5))\n",
        "sns.histplot(data=df1, x=\"Smoothness_Real\", color=\"red\", label=\"Smoothness Coeff Real\", kde=False)\n",
        "sns.histplot(data=df1, x=\"Smoothness_Generated\", color=\"skyblue\", label=\"Smoothness Coeff Generated\", kde=False)\n",
        "\n",
        "plt.title(\"Smoothness Coeff of Real and generated galaxy images\")\n",
        "plt.legend() \n",
        "plt.show()"
      ]
    },
    {
      "cell_type": "markdown",
      "id": "3401a13a",
      "metadata": {
        "id": "3401a13a"
      },
      "source": [
        "- The above histogram shows the smoothness coefficient of real and generated galaxies overlapping all through from 0 to 1.\n",
        "\n",
        "- Next, we will carry out an hypothesis test to compare the smoothness mean values of the real with the smoothness mean values of the generated galaxy images."
      ]
    },
    {
      "cell_type": "markdown",
      "id": "551ad502",
      "metadata": {
        "id": "551ad502"
      },
      "source": [
        "# Hypothesis Test for Smoothness"
      ]
    },
    {
      "cell_type": "code",
      "execution_count": 36,
      "id": "47f1d7c9",
      "metadata": {
        "colab": {
          "base_uri": "https://localhost:8080/"
        },
        "id": "47f1d7c9",
        "outputId": "4fcf20bf-520b-42dc-d8c3-6d7aaf309c39"
      },
      "outputs": [
        {
          "output_type": "stream",
          "name": "stdout",
          "text": [
            "Smoothness_real mean value: 0.4466\n",
            "Smoothness_generated mean value: 0.5180\n",
            "Smoothness_real std value: 0.2369\n",
            "Smoothness_generated std value : 0.1850\n",
            "p-value 0.06380153230215922\n",
            "We accept null hypothesis\n"
          ]
        }
      ],
      "source": [
        "#https://towardsdatascience.com/hypothesis-testing-in-machine-learning-using-python-a0dc89e169ce\n",
        "\n",
        "sListNormReal_mean = np.mean(sListNormReal)\n",
        "sListNormGenrated_mean = np.mean(sListNormGenrated)\n",
        "print(\"Smoothness_real mean value: {:.4f}\".format(sListNormReal_mean))\n",
        "print(\"Smoothness_generated mean value: {:.4f}\".format(sListNormGenrated_mean))\n",
        "sListNormReal_std = np.std(sListNormReal)\n",
        "sListNormGenrated_std = np.std(sListNormGenrated)\n",
        "print(\"Smoothness_real std value: {:.4f}\".format(sListNormReal_std))\n",
        "print(\"Smoothness_generated std value : {:.4f}\".format(sListNormGenrated_std))\n",
        "ttest,pval = ttest_ind(df1['Smoothness_Real'], df1['Smoothness_Generated'])\n",
        "print(\"p-value\",pval)\n",
        "if pval <0.05:\n",
        "    print(\"We reject null hypothesis\")\n",
        "else:\n",
        "    print(\"We accept null hypothesis\")\n"
      ]
    },
    {
      "cell_type": "markdown",
      "id": "53f8e4b1",
      "metadata": {
        "id": "53f8e4b1"
      },
      "source": [
        "- The two hypotheses for this particular paired samples t-test are as follows:\n",
        "\n",
        "- H0: µ1 = µ2 (the mean of real galaxy smoothness and the mean of generated galaxy smoothness are equal)\n",
        "\n",
        "- HA: µ1 ≠ µ2 (the mean of real galaxy smoothness and the mean of generated galaxy smoothness are not equal)\n",
        "\n",
        "- Since the p-value of the test (0.06380153230215922) is greater than 0.05, we accept the null hypothesis.\n"
      ]
    },
    {
      "cell_type": "markdown",
      "id": "f39e0aaf",
      "metadata": {
        "id": "f39e0aaf"
      },
      "source": [
        "- This means we have sufficient evidence to say that the mean of real galaxy smoothness and the mean of generated galaxy smoothness are equal."
      ]
    },
    {
      "cell_type": "markdown",
      "source": [
        "- We can infer from the above that the artificial galaxy images have the same smoothness as the real galaxies."
      ],
      "metadata": {
        "id": "JxLQjDpuGM0r"
      },
      "id": "JxLQjDpuGM0r"
    }
  ],
  "metadata": {
    "kernelspec": {
      "display_name": "Python 3 (ipykernel)",
      "language": "python",
      "name": "python3"
    },
    "language_info": {
      "codemirror_mode": {
        "name": "ipython",
        "version": 3
      },
      "file_extension": ".py",
      "mimetype": "text/x-python",
      "name": "python",
      "nbconvert_exporter": "python",
      "pygments_lexer": "ipython3",
      "version": "3.9.12"
    },
    "colab": {
      "name": "GANs Evaluation - Gini and Smoothness.ipynb",
      "provenance": [],
      "collapsed_sections": [
        "f9648995",
        "b2544fcc",
        "90098fc3",
        "bd48114c",
        "5a38fcb5",
        "2e628652",
        "aa5a4044",
        "af4757e7",
        "57B8cgqMhMGa"
      ]
    }
  },
  "nbformat": 4,
  "nbformat_minor": 5
}